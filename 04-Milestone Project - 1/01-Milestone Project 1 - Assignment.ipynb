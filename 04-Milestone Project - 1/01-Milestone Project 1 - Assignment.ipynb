{
 "cells": [
  {
   "cell_type": "markdown",
   "metadata": {},
   "source": [
    "# Milestone Project 1\n",
    "## Congratulations on making it to your first milestone!\n",
    "You've already learned a ton and are ready to work on a real project.\n",
    "\n",
    "Your assignment: Create a Tic Tac Toe game. You are free to use any IDE you like.\n",
    "\n",
    "Here are the requirements:\n",
    "\n",
    "* 2 players should be able to play the game (both sitting at the same computer)\n",
    "* The board should be printed out every time a player makes a move\n",
    "* You should be able to accept input of the player position and then place a symbol on the board\n",
    "\n",
    "Feel free to use Google to help you figure anything out (but don't just Google \"Tic Tac Toe in Python\" otherwise you won't learn anything!) Keep in mind that this project can take anywhere between several hours to several days.\n",
    "\n",
    "There are 4 Jupyter Notebooks related to this assignment:\n",
    "\n",
    "* This Assignment Notebook\n",
    "* A \"Walkthrough Steps Workbook\" Notebook\n",
    "* A \"Complete Walkthrough Solution\" Notebook\n",
    "* An \"Advanced Solution\" Notebook\n",
    "\n",
    "I encourage you to just try to start the project on your own without referencing any of the notebooks. If you get stuck, check out the next lecture which is a text lecture with helpful hints and steps. If you're still stuck after that, then check out the Walkthrough Steps Workbook, which breaks up the project in steps for you to solve. Still stuck? Then check out the Complete Walkthrough Solution video for more help on approaching the project!"
   ]
  },
  {
   "cell_type": "markdown",
   "metadata": {},
   "source": [
    "There are parts of this that will be a struggle...and that is good! I have complete faith that if you have made it this far through the course you have all the tools and knowledge to tackle this project. Remember, it's totally open book, so take your time, do a little research, and remember:\n",
    "\n",
    "## HAVE FUN!"
   ]
  },
  {
   "cell_type": "code",
   "execution_count": 7,
   "metadata": {},
   "outputs": [
    {
     "name": "stdout",
     "output_type": "stream",
     "text": [
      "   Board numbers                  BOARD\n",
      "\n",
      "      |     |                    |     |     \n",
      "   7  |  8  |  9                 |  X  |     \n",
      "      |     |                    |     |     \n",
      " -----------------          -----------------\n",
      "      |     |                    |     |     \n",
      "   4  |  5  |  6                 |  X  |     \n",
      "      |     |                    |     |     \n",
      " -----------------          -----------------\n",
      "      |     |                    |     |     \n",
      "   1  |  2  |  3              O  |  X  |  O  \n",
      "      |     |                    |     |     \n",
      "Player 1 wins!\n",
      "Are you ready to play? Enter Y(es) or N(o): n\n"
     ]
    }
   ],
   "source": [
    "from IPython.display import clear_output\n",
    "\n",
    "def board_array():\n",
    "    board = []\n",
    "    for i in range(11):\n",
    "        if i % 4 == 3:\n",
    "            board += [list('-' * 17)]\n",
    "        else:\n",
    "            board += [list(' ' * 5 + '|' + ' ' * 5 + '|' + ' ' * 5)]\n",
    "    return board\n",
    "\n",
    "# board = board_array()\n",
    "# for i in range(len(board)):\n",
    "#     print(''.join(board[i]))\n",
    "    \n",
    "def board_pattern():\n",
    "    board = board_array()\n",
    "    for i in range(9):\n",
    "        board[(2 - i // 3) * 4 + 1][i % 3 * 6 + 2] = str(i + 1)\n",
    "    return board\n",
    "\n",
    "# board = board_pattern()\n",
    "# print('')\n",
    "# for i in range(len(board)):\n",
    "#     print(''.join(board[i]))\n",
    "\n",
    "def board_state(state):\n",
    "    board = board_array()\n",
    "    for i in range(9):\n",
    "        board[(2 - i // 3) * 4 + 1][i % 3 * 6 + 2] = state[i]\n",
    "    return board\n",
    " \n",
    "# board = board_state(['O','X','O',' ','O','X','O',' ','O'])\n",
    "# print('')\n",
    "# for i in range(len(board)):\n",
    "#     print(''.join(board[i]))\n",
    "\n",
    "def board_print(state):\n",
    "    b_pattern = board_pattern()\n",
    "    b_state = board_state(state)\n",
    "    board = []\n",
    "    clear_output()    \n",
    "    print('   Board numbers' + ' ' * 18 + 'BOARD\\n')\n",
    "    for i in range(11):\n",
    "        print(' ' + ''.join(b_pattern[i]) + ' ' * 10 + ''.join(b_state[i]))\n",
    "  \n",
    " \n",
    "# board_print(['O','X','O',' ','O','X','O',' ','O'])\n",
    "\n",
    "def check_winner(state):\n",
    "    winnings = [[1, 2, 3], [4, 5, 6], [7, 8, 9],\n",
    "                [1, 4, 7], [2, 5, 8], [3, 6, 9],\n",
    "                [3, 5, 7], [1, 5, 9]]\n",
    "    winner = False\n",
    "    for i in range(len(winnings)):\n",
    "        i1 = winnings[i][0] - 1\n",
    "        i2 = winnings[i][1] - 1\n",
    "        i3 = winnings[i][2] - 1\n",
    "        if state[i1] in {'X', 'O'} and state[i1] ==  state[i2] == state[i3]:\n",
    "            winner = True\n",
    "            break\n",
    "    return winner\n",
    "\n",
    "print('Welcome to Tic Tac Toe!\\n')\n",
    "\n",
    "player1 = ''\n",
    "while player1 not in {'X','O'}:\n",
    "    player1 = input('Player 1: Do you want to be X or O? Your choice: ').upper()\n",
    "if player1 == 'X':\n",
    "    player2 = 'O'\n",
    "else:\n",
    "    player2 = 'X'\n",
    "    \n",
    "print('Player 1 will go first.')\n",
    "\n",
    "ready = input('Are you ready to play? Enter Y(es) or N(o): ')[0].upper()\n",
    "# ready = 'N'\n",
    "while ready == 'Y':\n",
    "    game_state = [' ',' ',' ',' ',' ',' ',' ',' ',' ']\n",
    "    moves = 0\n",
    "    game_over = False\n",
    "    board_print(game_state)\n",
    "    while not game_over:\n",
    "        not_moved1 = True\n",
    "        while not_moved1:\n",
    "            move = int(input('Choose your move: (1-9): '))\n",
    "            if game_state[move-1] not in {'X', 'O'}:\n",
    "                moves +=1\n",
    "                not_moved1 = False\n",
    "                game_state[move-1] = player1\n",
    "                board_print(game_state)\n",
    "                game_over = check_winner(game_state)\n",
    "                if game_over:\n",
    "                    print('Player 1 wins!')\n",
    "                    break\n",
    "                if moves >= 9:\n",
    "                    print('No winner')\n",
    "                    break\n",
    "            else:\n",
    "                board_print(game_state)\n",
    "        \n",
    "        if game_over: break\n",
    "            \n",
    "        not_moved2 = True\n",
    "        while not_moved2:\n",
    "            move = int(input('Choose your move: (1-9): '))\n",
    "            if game_state[move-1] not in {'X', 'O'}:\n",
    "                moves +=1\n",
    "                not_moved2 = False\n",
    "                game_state[move-1] = player2\n",
    "                board_print(game_state)\n",
    "                game_over = check_winner(game_state)\n",
    "                if game_over:\n",
    "                    print('Player 2 wins!')\n",
    "                    break\n",
    "                if moves >= 9:\n",
    "                    print('No winner')\n",
    "                    break\n",
    "            else:\n",
    "                board_print(game_state)\n",
    "\n",
    "    ready = input('Are you ready to play? Enter Y(es) or N(o): ')[0].upper()\n",
    "\n"
   ]
  },
  {
   "cell_type": "code",
   "execution_count": null,
   "metadata": {},
   "outputs": [],
   "source": [
    "6 % 3"
   ]
  },
  {
   "cell_type": "code",
   "execution_count": 1,
   "metadata": {},
   "outputs": [
    {
     "data": {
      "text/plain": [
       "['1', '2', '3', '4']"
      ]
     },
     "execution_count": 1,
     "metadata": {},
     "output_type": "execute_result"
    }
   ],
   "source": [
    "list('1234')"
   ]
  },
  {
   "cell_type": "code",
   "execution_count": null,
   "metadata": {},
   "outputs": [],
   "source": [
    "print(list('-' * 11))"
   ]
  },
  {
   "cell_type": "code",
   "execution_count": null,
   "metadata": {},
   "outputs": [],
   "source": [
    "list(' ' * 3 + '|' + ' ' * 3 + '|' + ' ' * 3)"
   ]
  },
  {
   "cell_type": "code",
   "execution_count": null,
   "metadata": {},
   "outputs": [],
   "source": []
  },
  {
   "cell_type": "code",
   "execution_count": null,
   "metadata": {},
   "outputs": [],
   "source": []
  },
  {
   "cell_type": "code",
   "execution_count": null,
   "metadata": {},
   "outputs": [],
   "source": []
  }
 ],
 "metadata": {
  "kernelspec": {
   "display_name": "Python 3",
   "language": "python",
   "name": "python3"
  },
  "language_info": {
   "codemirror_mode": {
    "name": "ipython",
    "version": 3
   },
   "file_extension": ".py",
   "mimetype": "text/x-python",
   "name": "python",
   "nbconvert_exporter": "python",
   "pygments_lexer": "ipython3",
   "version": "3.7.4"
  }
 },
 "nbformat": 4,
 "nbformat_minor": 1
}
